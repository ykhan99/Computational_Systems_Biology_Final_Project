{
 "cells": [
  {
   "cell_type": "markdown",
   "id": "df456ab3",
   "metadata": {},
   "source": [
    "# Flux Balance Analysis of Protein Lactate Dehydrogenase"
   ]
  },
  {
   "cell_type": "code",
   "execution_count": 325,
   "id": "a22e1152",
   "metadata": {},
   "outputs": [],
   "source": [
    "# imports\n",
    "import numpy as np\n",
    "import matplotlib.pyplot as plt\n",
    "import scipy as sp\n",
    "import cobra as cb"
   ]
  },
  {
   "cell_type": "markdown",
   "id": "5ddadeb5",
   "metadata": {},
   "source": [
    "Loading the Model\n",
    "\n",
    "\n",
    "We will use the E. coli genome-scale metabolic model. The E. coli model has been curated for over 20 years through several publications and can be downloaded from the BiGG Database. We will use the iML1515.xml model which is one of the latest versions, published in 2017. We will load the model below using COBRApy."
   ]
  },
  {
   "cell_type": "code",
   "execution_count": 326,
   "id": "d014cab4",
   "metadata": {},
   "outputs": [],
   "source": [
    "# load model\n",
    "model = cb.io.read_sbml_model('iML1515.xml')"
   ]
  },
  {
   "cell_type": "code",
   "execution_count": 327,
   "id": "c73dedb7",
   "metadata": {},
   "outputs": [
    {
     "data": {
      "text/html": [
       "\n",
       "        <table>\n",
       "            <tr>\n",
       "                <td><strong>Name</strong></td>\n",
       "                <td>iML1515</td>\n",
       "            </tr><tr>\n",
       "                <td><strong>Memory address</strong></td>\n",
       "                <td>215f1329120</td>\n",
       "            </tr><tr>\n",
       "                <td><strong>Number of metabolites</strong></td>\n",
       "                <td>1877</td>\n",
       "            </tr><tr>\n",
       "                <td><strong>Number of reactions</strong></td>\n",
       "                <td>2712</td>\n",
       "            </tr><tr>\n",
       "                <td><strong>Number of genes</strong></td>\n",
       "                <td>1516</td>\n",
       "            </tr><tr>\n",
       "                <td><strong>Number of groups</strong></td>\n",
       "                <td>0</td>\n",
       "            </tr><tr>\n",
       "                <td><strong>Objective expression</strong></td>\n",
       "                <td>1.0*BIOMASS_Ec_iML1515_core_75p37M - 1.0*BIOMASS_Ec_iML1515_core_75p37M_reverse_35685</td>\n",
       "            </tr><tr>\n",
       "                <td><strong>Compartments</strong></td>\n",
       "                <td>cytosol, extracellular space, periplasm</td>\n",
       "            </tr>\n",
       "          </table>"
      ],
      "text/plain": [
       "<Model iML1515 at 0x215f1329120>"
      ]
     },
     "execution_count": 327,
     "metadata": {},
     "output_type": "execute_result"
    }
   ],
   "source": [
    "model"
   ]
  },
  {
   "cell_type": "markdown",
   "id": "91f1c8b3",
   "metadata": {},
   "source": [
    "Defining the Environment\n",
    "\n",
    "A typical flux balance analysis will start by defining the environment for the simulation. This is done by changing the bounds on the \"exchange\" reactions. Exchange reactions are reactions in the metabolic network that import or export metabolites into the system. By default they are exporters, so a positive flux is exporting the metabolite and a negative flux is importing. We set the lower bound on select exchanges to a negative value to define envirnmental metabolites that can be imported in the simulation.\n",
    "\n",
    "In the code below, we will start by allowing export of all metabolites and import of no metabolites, to set a blank slate. Then we will allow import of all metabolites in a glucose minimal medium (a typical growth medium used for E. coli). We will also print out the names of the glucose minimal medium to see what we are adding into the simulation environment."
   ]
  },
  {
   "cell_type": "code",
   "execution_count": 328,
   "id": "7db0fa54",
   "metadata": {},
   "outputs": [
    {
     "name": "stdout",
     "output_type": "stream",
     "text": [
      "EX_pi_e Phosphate exchange\n",
      "EX_co2_e CO2 exchange\n",
      "EX_fe3_e Fe3+ exchange\n",
      "EX_h_e H+ exchange\n",
      "EX_mn2_e Mn2+ exchange\n",
      "EX_fe2_e Fe2+ exchange\n",
      "EX_glc__D_e D-Glucose exchange\n",
      "EX_zn2_e Zinc exchange\n",
      "EX_mg2_e Mg exchange\n",
      "EX_ca2_e Calcium exchange\n",
      "EX_ni2_e Ni2+ exchange\n",
      "EX_cu2_e Cu2+ exchange\n",
      "EX_sel_e Selenate exchange\n",
      "EX_cobalt2_e Co2+ exchange\n",
      "EX_h2o_e H2O exchange\n",
      "EX_mobd_e Molybdate exchange\n",
      "EX_so4_e Sulfate exchange\n",
      "EX_nh4_e Ammonia exchange\n",
      "EX_k_e K+ exchange\n",
      "EX_na1_e Sodium exchange\n",
      "EX_cl_e Chloride exchange\n",
      "EX_tungs_e Tungstate exchange\n",
      "EX_slnt_e Selenite exchange\n"
     ]
    }
   ],
   "source": [
    "# Define environment\n",
    "\n",
    "# Set a blank slate\n",
    "for ex in model.exchanges:\n",
    "    ex.lower_bound = 0\n",
    "    ex.upper_bound = 1000\n",
    "    \n",
    "# glucose minimal medium\n",
    "# glc_min_med = ['EX_pi_e','EX_co2_e','EX_fe3_e','EX_h_e','EX_mn2_e','EX_fe2_e','EX_glc__D_e','EX_zn2_e',\n",
    "#                'EX_mg2_e','EX_ca2_e','EX_ni2_e','EX_cu2_e','EX_sel_e','EX_cobalt2_e','EX_h2o_e','EX_mobd_e',\n",
    "#                'EX_so4_e','EX_nh4_e','EX_k_e','EX_na1_e','EX_cl_e','EX_o2_e','EX_tungs_e','EX_slnt_e']\n",
    "glc_min_med = ['EX_pi_e','EX_co2_e','EX_fe3_e','EX_h_e','EX_mn2_e','EX_fe2_e','EX_glc__D_e','EX_zn2_e',\n",
    "               'EX_mg2_e','EX_ca2_e','EX_ni2_e','EX_cu2_e','EX_sel_e','EX_cobalt2_e','EX_h2o_e','EX_mobd_e',\n",
    "               'EX_so4_e','EX_nh4_e','EX_k_e','EX_na1_e','EX_cl_e','EX_tungs_e','EX_slnt_e']\n",
    "\n",
    "\n",
    "\n",
    "for ex_id in glc_min_med:\n",
    "    model.exchanges.get_by_id(ex_id).lower_bound = -1000\n",
    "    print(model.exchanges.get_by_id(ex_id).id, model.exchanges.get_by_id(ex_id).name)\n",
    "\n",
    "# set glucose exchange lower bound to -18.5\n",
    "model.exchanges.get_by_id('EX_glc__D_e').lower_bound = -18.5"
   ]
  },
  {
   "cell_type": "markdown",
   "id": "e0dc74c7",
   "metadata": {},
   "source": [
    "Now that we have defined the environment for our simulation we can simulate the flux through the metabolic network. To do this, flux balance analysis will typically optimize a reaction called the biomass reaction. The biomass reaction consumes all of the essential building blocks for the cell (amino acids, nucleotides, lipids, etc...). Optimizing this reaction makes the assumption that the metabolic network flux is optimally producing the biomass precursors. We will implement the simulation by optimizing biomass flux below:"
   ]
  },
  {
   "cell_type": "code",
   "execution_count": 329,
   "id": "c1d57fa8",
   "metadata": {},
   "outputs": [
    {
     "data": {
      "text/plain": [
       "['10-Formyltetrahydrofolate',\n",
       " '[2Fe-2S] iron-sulfur cluster',\n",
       " '2-Octaprenyl-6-hydroxyphenol',\n",
       " '[4Fe-4S] iron-sulfur cluster',\n",
       " 'L-Alanine',\n",
       " 'S-Adenosyl-L-methionine',\n",
       " 'L-Arginine',\n",
       " 'L-Asparagine',\n",
       " 'L-Aspartate',\n",
       " 'ATP C10H12N5O13P3',\n",
       " 'Biotin',\n",
       " 'Calcium',\n",
       " 'Chloride',\n",
       " 'Coenzyme A',\n",
       " 'Co2+',\n",
       " 'CTP C9H12N3O14P3',\n",
       " 'Copper',\n",
       " 'L-Cysteine',\n",
       " 'DATP C10H12N5O12P3',\n",
       " 'DCTP C9H12N3O13P3',\n",
       " 'DGTP C10H12N5O13P3',\n",
       " 'DTTP C10H13N2O14P3',\n",
       " 'Flavin adenine dinucleotide oxidized',\n",
       " 'Fe2+ mitochondria',\n",
       " 'Iron (Fe3+)',\n",
       " 'L-Glutamine',\n",
       " 'L-Glutamate',\n",
       " 'Glycine',\n",
       " 'GTP C10H12N5O14P3',\n",
       " 'H2O H2O',\n",
       " 'L-Histidine',\n",
       " 'L-Isoleucine',\n",
       " 'Potassium',\n",
       " 'KDO(2)-lipid IV(A)',\n",
       " 'L-Leucine',\n",
       " 'L-Lysine',\n",
       " 'L-Methionine',\n",
       " 'Magnesium',\n",
       " '5,10-Methylenetetrahydrofolate',\n",
       " 'Manganese',\n",
       " 'Molybdate',\n",
       " 'Two disacharide linked murein units, pentapeptide crosslinked tetrapeptide (A2pm->D-ala) (middle of chain)',\n",
       " 'Nicotinamide adenine dinucleotide',\n",
       " 'Nicotinamide adenine dinucleotide phosphate',\n",
       " 'Ammonium',\n",
       " 'Nickel',\n",
       " 'Phosphatidylethanolamine (dihexadecanoyl, n-C16:0)',\n",
       " 'Phosphatidylethanolamine (dihexadec-9enoyl, n-C16:1)',\n",
       " 'L-Phenylalanine',\n",
       " 'Protoheme C34H30FeN4O4',\n",
       " 'L-Proline',\n",
       " \"Pyridoxal 5'-phosphate\",\n",
       " 'Riboflavin C17H20N4O6',\n",
       " 'L-Serine',\n",
       " 'Siroheme C42H36FeN4O16',\n",
       " 'Sulfate',\n",
       " 'Succinyl-CoA',\n",
       " '5,6,7,8-Tetrahydrofolate',\n",
       " 'Thiamine diphosphate',\n",
       " 'L-Threonine',\n",
       " 'L-Tryptophan',\n",
       " 'L-Tyrosine',\n",
       " 'Undecaprenyl diphosphate',\n",
       " 'UTP C9H11N2O15P3',\n",
       " 'L-Valine',\n",
       " 'Zinc']"
      ]
     },
     "execution_count": 329,
     "metadata": {},
     "output_type": "execute_result"
    }
   ],
   "source": [
    "# This code prints out the metabolites that are consumed by the biomass reaction\n",
    "# It is not necessary to run but gives some insight into the model assumptions\n",
    "\n",
    "model.objective = 'BIOMASS_Ec_iML1515_core_75p37M'\n",
    "bio_mets = list(model.reactions.get_by_id(str(model.objective.expression).split(' ')[0].split('*')[1]).metabolites.keys())\n",
    "bio_stoich = list(model.reactions.get_by_id(str(model.objective.expression).split(' ')[0].split('*')[1]).metabolites.values())\n",
    "bio_mets_c = []\n",
    "for i in range(len(bio_mets)):\n",
    "    if bio_stoich[i] < 0:\n",
    "        bio_mets_c.append(bio_mets[i].name)\n",
    "n_M = len(bio_mets_c)\n",
    "bio_mets_c"
   ]
  },
  {
   "cell_type": "code",
   "execution_count": 330,
   "id": "5415ac7a",
   "metadata": {},
   "outputs": [
    {
     "name": "stdout",
     "output_type": "stream",
     "text": [
      "0.3420889409686897\n"
     ]
    }
   ],
   "source": [
    "# Simulate Flux\n",
    "model.objective = 'BIOMASS_Ec_iML1515_core_75p37M'\n",
    "solution = model.optimize()\n",
    "print(solution.objective_value)"
   ]
  },
  {
   "cell_type": "markdown",
   "id": "1e9a10e4",
   "metadata": {},
   "source": [
    "Knocking Out Genes\n",
    "\n",
    "Genome-scale metabolic models contain a boolean mapping from genes to metabolic reactions. With this information we can simulate gene knockouts and their effect on metabolism. Let's try knocking out some genes and see what happens.\n",
    "\n",
    "We will knock out the gene HisD which is used for the production of the amino acid histidine in E. coli. We will then simulate growth with FBA to see if this gene was essential."
   ]
  },
  {
   "cell_type": "code",
   "execution_count": 333,
   "id": "d3734682",
   "metadata": {},
   "outputs": [
    {
     "name": "stdout",
     "output_type": "stream",
     "text": [
      "Biomass Flux with LDH KO: 1.6443791812413442\n"
     ]
    }
   ],
   "source": [
    "# Reset the environment\n",
    "# Set a blank slate\n",
    "for ex in model.exchanges:\n",
    "    ex.lower_bound = 0\n",
    "    ex.upper_bound = 1000\n",
    "    \n",
    "# glucose minimal medium\n",
    "glc_min_med = ['EX_pi_e','EX_co2_e','EX_fe3_e','EX_h_e','EX_mn2_e','EX_fe2_e','EX_glc__D_e','EX_zn2_e',\n",
    "               'EX_mg2_e','EX_ca2_e','EX_ni2_e','EX_cu2_e','EX_sel_e','EX_cobalt2_e','EX_h2o_e','EX_mobd_e',\n",
    "               'EX_so4_e','EX_nh4_e','EX_k_e','EX_na1_e','EX_cl_e','EX_o2_e','EX_tungs_e','EX_slnt_e']\n",
    "\n",
    "for ex_id in glc_min_med:\n",
    "    model.exchanges.get_by_id(ex_id).lower_bound = -1000\n",
    "\n",
    "# set glucose exchange lower bound to -10\n",
    "model.exchanges.get_by_id('EX_glc__D_e').lower_bound = -18.5\n",
    "\n",
    "# Simulate Gene Deletion\n",
    "# Delete Gene ldhA which is essential for lactate metabolism in E. coli\n",
    "with model:\n",
    "    model.genes.get_by_id('b1380').knock_out()\n",
    "    solution2 = model.optimize()\n",
    "    print('Biomass Flux with LDH KO:', solution2.objective_value)"
   ]
  },
  {
   "cell_type": "markdown",
   "id": "65e29880",
   "metadata": {},
   "source": [
    "Double Gene Knockouts\n",
    "\n",
    "In general, metabolic models allow us to simulate metabolic phenotypes at a much higher scale than what can be feasible accomplished through experiments. For example, we can simulate any combination of gene knockouts. For an organism with 1516 metabolic genes that is  $2^{1516}$\n",
    "  possible experiments (actually exploring this whole space is even beyond what we can simulate in a reasonable amount of compute time). Experimentally, researchers have measured the effects of double gene knockouts in various organisms. Occasionally, a double gene knockout will have a phenotype that is unexpected based on the single gene knock outs. For example, neither gene is essential individually but when they are both knocked out they become essential. This unexpected effect is generally termed \"epistasis\" and the specific example given here is known as \"synthetic lethality\". Let's try simulating some random double gene knockouts to see what the model predicts."
   ]
  },
  {
   "cell_type": "code",
   "execution_count": 335,
   "id": "8821b878",
   "metadata": {},
   "outputs": [
    {
     "name": "stdout",
     "output_type": "stream",
     "text": [
      "Biomass Flux Knock out ldhA 1.6443791812413449\n",
      "Biomass Flux Knock out ispB 1.4146894476415339e-15\n",
      "Biomass Flux Knock out ldhA and ispB 0.0\n"
     ]
    }
   ],
   "source": [
    "    \n",
    "# Simulate Gene Deletions\n",
    "with model:\n",
    "    model.genes.get_by_id('b1380').knock_out()\n",
    "    solution1 = model.optimize()\n",
    "    print('Biomass Flux Knock out ldhA', solution1.objective_value)\n",
    "    \n",
    "with model:\n",
    "    model.genes.get_by_id('b3187').knock_out()\n",
    "    solution1 = model.optimize()\n",
    "    print('Biomass Flux Knock out ispB', solution1.objective_value)\n",
    "    \n",
    "with model:\n",
    "    model.genes.get_by_id('b1380').knock_out()\n",
    "    model.genes.get_by_id('b3187').knock_out()\n",
    "    solution1 = model.optimize()\n",
    "    print('Biomass Flux Knock out ldhA and ispB', solution1.objective_value)"
   ]
  },
  {
   "cell_type": "code",
   "execution_count": 336,
   "id": "95c77ec1",
   "metadata": {},
   "outputs": [
    {
     "name": "stdout",
     "output_type": "stream",
     "text": [
      "Biomass Flux Knock out ldhA 1.6443791812413466\n",
      "Biomass Flux Knock out ispE 6.859100352201377e-16\n",
      "Biomass Flux Knock out ldhA and ispE 0.0\n"
     ]
    }
   ],
   "source": [
    "    \n",
    "# Simulate Gene Deletions\n",
    "with model:\n",
    "    model.genes.get_by_id('b1380').knock_out()\n",
    "    solution1 = model.optimize()\n",
    "    print('Biomass Flux Knock out ldhA', solution1.objective_value)\n",
    "    \n",
    "with model:\n",
    "    model.genes.get_by_id('b1208').knock_out()\n",
    "    solution1 = model.optimize()\n",
    "    print('Biomass Flux Knock out ispE', solution1.objective_value)\n",
    "    \n",
    "with model:\n",
    "    model.genes.get_by_id('b1380').knock_out()\n",
    "    model.genes.get_by_id('b1208').knock_out()\n",
    "    solution1 = model.optimize()\n",
    "    print('Biomass Flux Knock out ldhA and ispE', solution1.objective_value)"
   ]
  },
  {
   "cell_type": "code",
   "execution_count": 337,
   "id": "657cbbf5",
   "metadata": {},
   "outputs": [
    {
     "name": "stdout",
     "output_type": "stream",
     "text": [
      "Biomass Flux Knock out ldhA 1.644379181241333\n",
      "Biomass Flux Knock out murB 1.1574731844339823e-15\n",
      "Biomass Flux Knock out ldhA and murB 0.0\n"
     ]
    }
   ],
   "source": [
    "\n",
    "# Simulate Gene Deletions\n",
    "with model:\n",
    "    model.genes.get_by_id('b1380').knock_out()\n",
    "    solution1 = model.optimize()\n",
    "    print('Biomass Flux Knock out ldhA', solution1.objective_value)\n",
    "    \n",
    "with model:\n",
    "    model.genes.get_by_id('b3972').knock_out()\n",
    "    solution1 = model.optimize()\n",
    "    print('Biomass Flux Knock out murB', solution1.objective_value)\n",
    "    \n",
    "with model:\n",
    "    model.genes.get_by_id('b1380').knock_out()\n",
    "    model.genes.get_by_id('b3972').knock_out()\n",
    "    solution1 = model.optimize()\n",
    "    print('Biomass Flux Knock out ldhA and murB', solution1.objective_value)"
   ]
  },
  {
   "cell_type": "code",
   "execution_count": 338,
   "id": "858ef94f",
   "metadata": {},
   "outputs": [
    {
     "name": "stdout",
     "output_type": "stream",
     "text": [
      "Biomass Flux Knock out ldhA 1.6443791812413342\n",
      "Biomass Flux Knock out murE 6.4304065801887915e-16\n",
      "Biomass Flux Knock out ldhA and murE 0.0\n"
     ]
    }
   ],
   "source": [
    "  \n",
    "# Simulate Gene Deletions\n",
    "with model:\n",
    "    model.genes.get_by_id('b1380').knock_out()\n",
    "    solution1 = model.optimize()\n",
    "    print('Biomass Flux Knock out ldhA', solution1.objective_value)\n",
    "    \n",
    "with model:\n",
    "    model.genes.get_by_id('b0085').knock_out()\n",
    "    solution1 = model.optimize()\n",
    "    print('Biomass Flux Knock out murE', solution1.objective_value)\n",
    "    \n",
    "with model:\n",
    "    model.genes.get_by_id('b1380').knock_out()\n",
    "    model.genes.get_by_id('b0085').knock_out()\n",
    "    solution1 = model.optimize()\n",
    "    print('Biomass Flux Knock out ldhA and murE', solution1.objective_value)"
   ]
  },
  {
   "cell_type": "code",
   "execution_count": 340,
   "id": "84f8ef95",
   "metadata": {},
   "outputs": [
    {
     "name": "stdout",
     "output_type": "stream",
     "text": [
      "Biomass Flux Knock out ldhA 1.6443791812413615\n",
      "Biomass Flux Knock out folK 2.7522140163208027e-13\n",
      "Biomass Flux Knock out ldhA and folK -2.0902614464316067e-26\n"
     ]
    }
   ],
   "source": [
    "    \n",
    "# Simulate Gene Deletions\n",
    "with model:\n",
    "    model.genes.get_by_id('b1380').knock_out()\n",
    "    solution1 = model.optimize()\n",
    "    print('Biomass Flux Knock out ldhA', solution1.objective_value)\n",
    "    \n",
    "with model:\n",
    "    model.genes.get_by_id('b0142').knock_out()\n",
    "    solution1 = model.optimize()\n",
    "    print('Biomass Flux Knock out folK', solution1.objective_value)\n",
    "    \n",
    "with model:\n",
    "    model.genes.get_by_id('b1380').knock_out()\n",
    "    model.genes.get_by_id('b0142').knock_out()\n",
    "    solution1 = model.optimize()\n",
    "    print('Biomass Flux Knock out ldhA and folK', solution1.objective_value)"
   ]
  },
  {
   "cell_type": "code",
   "execution_count": 341,
   "id": "9633f538",
   "metadata": {},
   "outputs": [
    {
     "name": "stdout",
     "output_type": "stream",
     "text": [
      "Biomass Flux Knock out ldhA 1.6443791812413615\n",
      "Biomass Flux Knock out folE 8.002426642158943e-13\n",
      "Biomass Flux Knock out ldhA and folE 0.0\n"
     ]
    }
   ],
   "source": [
    "    \n",
    "# Simulate Gene Deletions\n",
    "with model:\n",
    "    model.genes.get_by_id('b1380').knock_out()\n",
    "    solution1 = model.optimize()\n",
    "    print('Biomass Flux Knock out ldhA', solution1.objective_value)\n",
    "    \n",
    "with model:\n",
    "    model.genes.get_by_id('b2153').knock_out()\n",
    "    solution1 = model.optimize()\n",
    "    print('Biomass Flux Knock out folE', solution1.objective_value)\n",
    "    \n",
    "with model:\n",
    "    model.genes.get_by_id('b1380').knock_out()\n",
    "    model.genes.get_by_id('b2153').knock_out()\n",
    "    solution1 = model.optimize()\n",
    "    print('Biomass Flux Knock out ldhA and folE', solution1.objective_value)"
   ]
  },
  {
   "cell_type": "markdown",
   "id": "3771d339",
   "metadata": {},
   "source": [
    "The models above simiulates growth when we Knock them both genes out individually but simiulates no growth when both are knocked out together, this is because neither gene is essential individually but when they are both knocked out they become essential. This unexpected effect is generally termed \"epistasis\" and is known as \"synthetic lethality\"."
   ]
  },
  {
   "cell_type": "code",
   "execution_count": null,
   "id": "8a8e0810",
   "metadata": {},
   "outputs": [],
   "source": []
  }
 ],
 "metadata": {
  "kernelspec": {
   "display_name": "Python 3 (ipykernel)",
   "language": "python",
   "name": "python3"
  },
  "language_info": {
   "codemirror_mode": {
    "name": "ipython",
    "version": 3
   },
   "file_extension": ".py",
   "mimetype": "text/x-python",
   "name": "python",
   "nbconvert_exporter": "python",
   "pygments_lexer": "ipython3",
   "version": "3.10.9"
  }
 },
 "nbformat": 4,
 "nbformat_minor": 5
}
