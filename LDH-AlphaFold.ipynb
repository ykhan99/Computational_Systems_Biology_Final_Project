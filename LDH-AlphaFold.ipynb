{
 "cells": [
  {
   "cell_type": "markdown",
   "id": "ba9dbe50",
   "metadata": {},
   "source": [
    "# Protein Structure"
   ]
  },
  {
   "cell_type": "markdown",
   "id": "0212e0a4",
   "metadata": {},
   "source": [
    "## Overview\n",
    "\n",
    "Our goal is to build familiarity with protein structure and sequence files and gain some intuition into the utility of protein structures. In part 1, we will visualize protein structures and determine if we can say anything about the protein's function. In part 2, we will then search for the proteins using their amino acid sequence to check their actual function. \n",
    "\n",
    "In this notebook we will take a look at several protein structures. These structures were predicted automatically from alphafold and were downloaded from the [AlphaFold database](https://alphafold.ebi.ac.uk/).\n",
    "\n",
    "There are two types of files that we will work with here (.pdb and .fasta files). Both of these files are plain text files (you can open them in any text editor). Each file has a standard format for the information it represents.\n",
    "* .pdb files: protein structure, this file specifies the coordinates of each atom in each amino acid of the protein\n",
    "* .fasta files: protein sequence, this file lists the amino acid sequence of the protein (Note: .fasta files can contain either amino acid or nucleotide sequences)\n",
    "\n",
    "We will first load the .pdb files and visulaize the protein structures. Next we will load the .fasta files and search the NCBI database via BLAST to identify the protein."
   ]
  },
  {
   "cell_type": "code",
   "execution_count": 1,
   "id": "039b7e1d",
   "metadata": {},
   "outputs": [
    {
     "data": {
      "application/vnd.jupyter.widget-view+json": {
       "model_id": "c7b009402f854025abb92d11b8861c65",
       "version_major": 2,
       "version_minor": 0
      },
      "text/plain": []
     },
     "metadata": {},
     "output_type": "display_data"
    }
   ],
   "source": [
    "# Import cell (RUN THIS CELL TO TEST YOUR INSTALL/ENVIRONMENT)\n",
    "# part 1\n",
    "from Bio.PDB import *\n",
    "import nglview as nv\n",
    "import ipywidgets\n",
    "# part 2\n",
    "from Bio import SeqIO\n",
    "from Bio.Blast import NCBIWWW\n",
    "from Bio.Blast import NCBIXML"
   ]
  },
  {
   "cell_type": "markdown",
   "id": "460c6a67",
   "metadata": {},
   "source": [
    "## Part 1: Visualize Structures\n",
    "\n",
    "In this section we will load and visualize the protein structure files. Replace the text \"P1_structure.pdb\" with the name of each of the protein .pdb files and run the code block. Once the visualization is generated, you can click and drag to spin the protein around and scroll to zoom in and out. Copy the code block and repeat this for each of the protein files.\n",
    "\n",
    "Here we are using a simple approach to view the proteins with the biopython (Bio.PDB) and nglview packages. There are many more sophisticated tools that allow you to visualize proteins and run analyses on them such as \"molecular docking\". If you are interested in exploring protein structure analysis further a popular and more powerful software tool is [pymol](https://pymol.org/2/)."
   ]
  },
  {
   "cell_type": "code",
   "execution_count": 7,
   "id": "cd3b2950",
   "metadata": {},
   "outputs": [
    {
     "data": {
      "application/vnd.jupyter.widget-view+json": {
       "model_id": "c59e4059e3544be58a223007177fda52",
       "version_major": 2,
       "version_minor": 0
      },
      "text/plain": [
       "NGLWidget()"
      ]
     },
     "metadata": {},
     "output_type": "display_data"
    }
   ],
   "source": [
    "#LDH-A Structure\n",
    "pdb_parser = PDBParser()\n",
    "structure = pdb_parser.get_structure(\"P\", \"AF-Q6ZMR3-F1-model_v4.pdb\")\n",
    "view = nv.show_biopython(structure)\n",
    "view"
   ]
  },
  {
   "cell_type": "code",
   "execution_count": 8,
   "id": "f693deda",
   "metadata": {},
   "outputs": [
    {
     "data": {
      "application/vnd.jupyter.widget-view+json": {
       "model_id": "c2f48e3f482e46f7b811d744987eec0c",
       "version_major": 2,
       "version_minor": 0
      },
      "text/plain": [
       "NGLWidget()"
      ]
     },
     "metadata": {},
     "output_type": "display_data"
    }
   ],
   "source": [
    "# Load the predicted structure of LDH-A\n",
    "pdb_parser = PDBParser()\n",
    "structure = pdb_parser.get_structure(\"P\", \"AF-Q6ZMR3-F1-model_v4.pdb\")\n",
    "\n",
    "# Get the first model of the structure\n",
    "model = structure[0]\n",
    "\n",
    "# Get the chain containing the active site residues\n",
    "chain_id = \"A\"\n",
    "chain = model[chain_id]\n",
    "\n",
    "# Get the residues within a certain distance of the substrate\n",
    "substrate_residues = [residue for residue in chain.get_residues() if residue.get_resname() == \"LAC\"]\n",
    "active_site_residues = [residue for residue in chain.get_residues() if residue.get_id()[1] in range(163, 168)]\n",
    "\n",
    "# Visualize the structure and highlight the active site residues\n",
    "view = nv.show_biopython(structure)\n",
    "view.add_representation(\"cartoon\", selection=f\"chain {chain_id}\")\n",
    "view.add_representation(\"ball+stick\", selection=f\"resid {'+'.join(map(str, active_site_residues))}\")\n",
    "view.add_representation(\"ball+stick\", selection=f\"resname LAC\")\n",
    "view\n"
   ]
  },
  {
   "cell_type": "code",
   "execution_count": null,
   "id": "7dc51a76",
   "metadata": {},
   "outputs": [],
   "source": []
  }
 ],
 "metadata": {
  "kernelspec": {
   "display_name": "Python 3 (ipykernel)",
   "language": "python",
   "name": "python3"
  },
  "language_info": {
   "codemirror_mode": {
    "name": "ipython",
    "version": 3
   },
   "file_extension": ".py",
   "mimetype": "text/x-python",
   "name": "python",
   "nbconvert_exporter": "python",
   "pygments_lexer": "ipython3",
   "version": "3.11.0"
  }
 },
 "nbformat": 4,
 "nbformat_minor": 5
}
